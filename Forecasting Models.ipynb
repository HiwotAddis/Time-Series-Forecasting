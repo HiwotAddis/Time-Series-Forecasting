{
 "cells": [
  {
   "cell_type": "markdown",
   "id": "c72e3ced",
   "metadata": {},
   "source": [
    "# Select Tesla Closing Price"
   ]
  },
  {
   "cell_type": "code",
   "execution_count": null,
   "id": "a72ffd17",
   "metadata": {},
   "outputs": [],
   "source": [
    "import numpy as np\n",
    "import pandas as pd\n",
    "import matplotlib.pyplot as plt\n",
    "import seaborn as sns\n",
    "from statsmodels.tsa.arima.model import ARIMA\n",
    "import sys\n",
    "!{sys.executable} -m pip install pmdarima\n",
    "\n",
    "import pmdarima as pm\n",
    "from sklearn.metrics import mean_absolute_error, mean_squared_error\n",
    "from sklearn.preprocessing import MinMaxScaler\n",
    "import tensorflow as tf\n",
    "from tensorflow.keras.models import Sequential\n",
    "from tensorflow.keras.layers import LSTM, Dense\n",
    "from tensorflow.keras.preprocessing.sequence import TimeseriesGenerator\n",
    "\n",
    "# Extract TSLA 'Adj Close'\n",
    "tsla_df = assets['TSLA'].copy()\n",
    "ts = tsla_df['Adj Close']\n",
    "\n",
    "# Quick plot\n",
    "ts.plot(figsize=(10,5), title=\"Tesla Adjusted Closing Price\")\n",
    "plt.show()\n"
   ]
  },
  {
   "cell_type": "markdown",
   "id": "bef8b60f",
   "metadata": {},
   "source": [
    "#  Chronological Train-Test Split"
   ]
  },
  {
   "cell_type": "code",
   "execution_count": null,
   "id": "06fbd83b",
   "metadata": {},
   "outputs": [],
   "source": [
    "train_size = int(len(ts) * 0.8)\n",
    "train, test = ts.iloc[:train_size], ts.iloc[train_size:]\n",
    "\n",
    "print(f\"Train size: {len(train)}, Test size: {len(test)}\")\n"
   ]
  },
  {
   "cell_type": "markdown",
   "id": "122416ae",
   "metadata": {},
   "source": [
    "#  ARIMA Model"
   ]
  },
  {
   "cell_type": "code",
   "execution_count": null,
   "id": "2ccd6d63",
   "metadata": {},
   "outputs": [],
   "source": [
    "# Auto-select (p, d, q)\n",
    "model_auto = pm.auto_arima(train, seasonal=False, trace=True,\n",
    "                           error_action='ignore', suppress_warnings=True,\n",
    "                           stepwise=True)\n",
    "print(model_auto.summary())\n"
   ]
  },
  {
   "cell_type": "code",
   "execution_count": null,
   "id": "158c0cac",
   "metadata": {},
   "outputs": [],
   "source": [
    "# Fit and Forecast\n",
    "arima_model = ARIMA(train, order=model_auto.order)\n",
    "arima_fit = arima_model.fit()\n",
    "\n",
    "arima_forecast = arima_fit.forecast(steps=len(test))\n"
   ]
  },
  {
   "cell_type": "markdown",
   "id": "3401771d",
   "metadata": {},
   "source": [
    "#  LSTM Model"
   ]
  },
  {
   "cell_type": "code",
   "execution_count": null,
   "id": "c49ffbb3",
   "metadata": {},
   "outputs": [],
   "source": [
    "# Scale and Generate Sequences\n",
    "scaler = MinMaxScaler()\n",
    "train_scaled = scaler.fit_transform(train.values.reshape(-1, 1))\n",
    "test_scaled = scaler.transform(test.values.reshape(-1, 1))\n",
    "\n",
    "n_input = 30  # lookback window\n",
    "generator = TimeseriesGenerator(train_scaled, train_scaled, length=n_input, batch_size=32)\n",
    "\n",
    "\n",
    "# Define & Train\n",
    "lstm_model = Sequential()\n",
    "lstm_model.add(LSTM(50, activation='relu', input_shape=(n_input, 1)))\n",
    "lstm_model.add(Dense(1))\n",
    "lstm_model.compile(optimizer='adam', loss='mse')\n",
    "\n",
    "lstm_model.fit(generator, epochs=20)\n",
    "\n",
    "\n",
    "# Forecast\n",
    "pred_list = []\n",
    "batch = train_scaled[-n_input:].reshape((1, n_input, 1))\n",
    "\n",
    "for _ in range(len(test)):\n",
    "    pred = lstm_model.predict(batch, verbose=0)[0]\n",
    "    pred_list.append(pred)\n",
    "    batch = np.append(batch[:, 1:, :], [[pred]], axis=1)\n",
    "\n",
    "lstm_forecast = scaler.inverse_transform(pred_list).flatten()\n"
   ]
  },
  {
   "cell_type": "markdown",
   "id": "b1b0bd23",
   "metadata": {},
   "source": [
    "# Evaluate Models"
   ]
  },
  {
   "cell_type": "code",
   "execution_count": null,
   "id": "5cd86b47",
   "metadata": {},
   "outputs": [],
   "source": [
    "def mape(y_true, y_pred):\n",
    "    return np.mean(np.abs((y_true - y_pred) / y_true)) * 100\n",
    "\n",
    "metrics = pd.DataFrame({\n",
    "    'Model': ['ARIMA', 'LSTM'],\n",
    "    'MAE': [\n",
    "        mean_absolute_error(test, arima_forecast),\n",
    "        mean_absolute_error(test, lstm_forecast)\n",
    "    ],\n",
    "    'RMSE': [\n",
    "        np.sqrt(mean_squared_error(test, arima_forecast)),\n",
    "        np.sqrt(mean_squared_error(test, lstm_forecast))\n",
    "    ],\n",
    "    'MAPE (%)': [\n",
    "        mape(test, arima_forecast),\n",
    "        mape(test, lstm_forecast)\n",
    "    ]\n",
    "})\n",
    "\n",
    "print(metrics)\n"
   ]
  },
  {
   "cell_type": "markdown",
   "id": "1c97f05b",
   "metadata": {},
   "source": [
    "# Plot Forecasts"
   ]
  },
  {
   "cell_type": "code",
   "execution_count": null,
   "id": "da1f52d6",
   "metadata": {},
   "outputs": [],
   "source": [
    "plt.figure(figsize=(12,6))\n",
    "plt.plot(train.index, train, label='Train')\n",
    "plt.plot(test.index, test, label='Test', color='orange')\n",
    "plt.plot(test.index, arima_forecast, label='ARIMA Forecast', color='green')\n",
    "plt.plot(test.index, lstm_forecast, label='LSTM Forecast', color='red')\n",
    "plt.title(\"Tesla Stock Price Forecast — ARIMA vs LSTM\")\n",
    "plt.legend()\n",
    "plt.show()\n"
   ]
  }
 ],
 "metadata": {
  "kernelspec": {
   "display_name": "base",
   "language": "python",
   "name": "python3"
  },
  "language_info": {
   "codemirror_mode": {
    "name": "ipython",
    "version": 3
   },
   "file_extension": ".py",
   "mimetype": "text/x-python",
   "name": "python",
   "nbconvert_exporter": "python",
   "pygments_lexer": "ipython3",
   "version": "3.13.2"
  }
 },
 "nbformat": 4,
 "nbformat_minor": 5
}
