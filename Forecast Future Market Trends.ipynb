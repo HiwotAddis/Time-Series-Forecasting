{
 "cells": [
  {
   "cell_type": "markdown",
   "id": "a7a328b4",
   "metadata": {},
   "source": [
    "# Imports & basic setup"
   ]
  },
  {
   "cell_type": "code",
   "execution_count": null,
   "id": "732a04b1",
   "metadata": {},
   "outputs": [],
   "source": [
    "\n",
    "import numpy as np\n",
    "import pandas as pd\n",
    "import matplotlib.pyplot as plt\n",
    "from statsmodels.tsa.arima.model import ARIMA\n",
    "import pmdarima as pm\n",
    "import datetime as dt\n",
    "\n",
    "from sklearn.preprocessing import MinMaxScaler\n",
    "from tensorflow.keras.models import Sequential\n",
    "from tensorflow.keras.layers import LSTM, Dense\n",
    "from tensorflow.keras.callbacks import EarlyStopping\n",
    "\n",
    "import warnings\n",
    "warnings.filterwarnings(\"ignore\")\n",
    "\n",
    "# --- Parameters you can change quickly ---\n",
    "forecast_months = 6            # set 6 or 12\n",
    "business_days_per_month = 21   # approximate trading days per month\n",
    "horizon_days = forecast_months * business_days_per_month  # e.g., 6*21=126\n",
    "n_bootstrap_sims = 500         # simulations for LSTM intervals\n",
    "n_input = 30                   # LSTM lookback window (days)\n",
    "seed = 42\n",
    "np.random.seed(seed)\n"
   ]
  },
  {
   "cell_type": "markdown",
   "id": "27023e9f",
   "metadata": {},
   "source": [
    "# Load TSLA series from your Task 1 assets dict\n"
   ]
  },
  {
   "cell_type": "code",
   "execution_count": null,
   "id": "1a15e029",
   "metadata": {},
   "outputs": [],
   "source": [
    "tsla_df = assets['TSLA'].copy()        # uses your existing cleaned dataframe\n",
    "tsla = tsla_df['Adj Close'].asfreq('B')  # reindex to business-day frequency (NaN for non-trading days)\n",
    "# Fill forward to fill non-trading gaps; this keeps a business-day index for forecasting\n",
    "tsla = tsla.fillna(method='ffill')\n",
    "\n",
    "# Quick sanity\n",
    "print(\"Data range:\", tsla.index.min().date(), \"to\", tsla.index.max().date())\n",
    "tsla.plot(title='TSLA Adj Close (used for forecasting)', figsize=(12,4))\n",
    "plt.show()\n"
   ]
  },
  {
   "cell_type": "markdown",
   "id": "3e0a6629",
   "metadata": {},
   "source": [
    "# Prepare index for forecasts (business days)\n"
   ]
  },
  {
   "cell_type": "code",
   "execution_count": null,
   "id": "28ade86d",
   "metadata": {},
   "outputs": [],
   "source": [
    "last_date = tsla.index.max()\n",
    "future_index = pd.bdate_range(last_date + pd.Timedelta(days=1), periods=horizon_days)\n",
    "future_index[:5], future_index[-1]\n"
   ]
  },
  {
   "cell_type": "markdown",
   "id": "bcc7e5af",
   "metadata": {},
   "source": [
    "# Auto ARIMA on full series (retrain on full history)"
   ]
  },
  {
   "cell_type": "code",
   "execution_count": null,
   "id": "1afc2191",
   "metadata": {},
   "outputs": [],
   "source": [
    "# Use price series directly but note ARIMA commonly requires differencing.\n",
    "print(\"Running auto_arima on TSLA (this may take a bit)...\")\n",
    "auto = pm.auto_arima(tsla, seasonal=False, trace=False, error_action='ignore', stepwise=True, suppress_warnings=True)\n",
    "print(\"auto_arima order:\", auto.order)\n",
    "# Fit final ARIMA (statsmodels)\n",
    "arima_order = auto.order\n",
    "arima_model = ARIMA(tsla, order=arima_order).fit()\n"
   ]
  },
  {
   "cell_type": "markdown",
   "id": "ad9c1142",
   "metadata": {},
   "source": [
    "# ARIMA forecast with 95% conf intervals"
   ]
  },
  {
   "cell_type": "code",
   "execution_count": null,
   "id": "f8a44beb",
   "metadata": {},
   "outputs": [],
   "source": [
    "arima_fc = arima_model.get_forecast(steps=horizon_days)\n",
    "arima_mean = arima_fc.predicted_mean\n",
    "arima_ci = arima_fc.conf_int(alpha=0.05)  # 95% CI -> columns ['lower Adj Close','upper Adj Close'] if named\n",
    "\n",
    "# Put in DataFrame\n",
    "arima_forecast_df = pd.DataFrame({\n",
    "    'mean': arima_mean.values,\n",
    "    'lower_95': arima_ci.iloc[:,0].values,\n",
    "    'upper_95': arima_ci.iloc[:,1].values\n",
    "}, index=future_index)\n",
    "\n",
    "# Plot ARIMA result\n",
    "plt.figure(figsize=(12,5))\n",
    "plt.plot(tsla.index[-500:], tsla.values[-500:], label='Historical (last 500 days)')\n",
    "plt.plot(arima_forecast_df.index, arima_forecast_df['mean'], label='ARIMA mean forecast')\n",
    "plt.fill_between(arima_forecast_df.index, arima_forecast_df['lower_95'], arima_forecast_df['upper_95'],\n",
    "                 color='lightgreen', alpha=0.4, label='ARIMA 95% CI')\n",
    "plt.title(f'ARIMA Forecast — {forecast_months} months ahead')\n",
    "plt.legend()\n",
    "plt.show()\n"
   ]
  },
  {
   "cell_type": "markdown",
   "id": "e2243480",
   "metadata": {},
   "source": [
    "# Prepare scaled series for LSTM (train on full tsla)"
   ]
  },
  {
   "cell_type": "code",
   "execution_count": null,
   "id": "24002769",
   "metadata": {},
   "outputs": [],
   "source": [
    "scaler = MinMaxScaler()\n",
    "ts_values = tsla.values.reshape(-1,1)\n",
    "ts_scaled = scaler.fit_transform(ts_values)\n",
    "\n",
    "# Create training sequences for full history\n",
    "def create_sequences(series, n_input):\n",
    "    X, y = [], []\n",
    "    for i in range(n_input, len(series)):\n",
    "        X.append(series[i-n_input:i, 0])\n",
    "        y.append(series[i, 0])\n",
    "    X = np.array(X)\n",
    "    y = np.array(y)\n",
    "    return X.reshape((X.shape[0], X.shape[1], 1)), y\n",
    "\n",
    "X_all, y_all = create_sequences(ts_scaled, n_input)\n",
    "print(\"LSTM input shape:\", X_all.shape)\n"
   ]
  },
  {
   "cell_type": "markdown",
   "id": "817039c9",
   "metadata": {},
   "source": [
    "# Define & train LSTM on full historical series"
   ]
  },
  {
   "cell_type": "code",
   "execution_count": null,
   "id": "1fc41c6d",
   "metadata": {},
   "outputs": [],
   "source": [
    "tf.random.set_seed(seed)\n",
    "model = Sequential()\n",
    "model.add(LSTM(64, activation='tanh', input_shape=(n_input,1)))\n",
    "model.add(Dense(1))\n",
    "model.compile(optimizer='adam', loss='mse')\n",
    "\n",
    "es = EarlyStopping(monitor='loss', patience=5, restore_best_weights=True)\n",
    "model.fit(X_all, y_all, epochs=50, batch_size=32, verbose=1, callbacks=[es])\n"
   ]
  },
  {
   "cell_type": "markdown",
   "id": "ea5a3c1b",
   "metadata": {},
   "source": [
    "# Compute in-sample fitted values & residuals"
   ]
  },
  {
   "cell_type": "code",
   "execution_count": null,
   "id": "fc9a9051",
   "metadata": {},
   "outputs": [],
   "source": [
    "# Reconstruct in-sample predictions (one-step ahead) by predicting X_all\n",
    "in_sample_pred_scaled = model.predict(X_all, verbose=0).flatten()\n",
    "in_sample_pred = scaler.inverse_transform(in_sample_pred_scaled.reshape(-1,1)).flatten()\n",
    "\n",
    "# Align indices: predictions start at index n_input\n",
    "pred_index = tsla.index[n_input:]\n",
    "in_sample_actual = tsla.loc[pred_index].values.flatten()\n",
    "residuals = in_sample_actual - in_sample_pred\n",
    "residuals_std = residuals.std(ddof=1)\n",
    "print(\"In-sample residuals std:\", residuals_std)\n"
   ]
  },
  {
   "cell_type": "markdown",
   "id": "486d6931",
   "metadata": {},
   "source": [
    "# Point forecast with LSTM"
   ]
  },
  {
   "cell_type": "code",
   "execution_count": null,
   "id": "03028be5",
   "metadata": {},
   "outputs": [],
   "source": [
    "\n",
    "last_window = ts_scaled[-n_input:].reshape((1, n_input, 1))\n",
    "lstm_point_forecasts = []\n",
    "\n",
    "current_input = last_window.copy()\n",
    "for i in range(horizon_days):\n",
    "    pred_scaled = model.predict(current_input, verbose=0)[0,0]\n",
    "    lstm_point_forecasts.append(pred_scaled)\n",
    "    # slide window\n",
    "    current_input = np.append(current_input[:,1:,:], [[[pred_scaled]]], axis=1)\n",
    "\n",
    "# inverse scale\n",
    "lstm_fc_values = scaler.inverse_transform(np.array(lstm_point_forecasts).reshape(-1,1)).flatten()\n",
    "lstm_forecast_df = pd.DataFrame({'mean': lstm_fc_values}, index=future_index)\n",
    "\n",
    "# Plot LSTM point forecast\n",
    "plt.figure(figsize=(12,5))\n",
    "plt.plot(tsla.index[-500:], tsla.values[-500:], label='Historical (last 500 days)')\n",
    "plt.plot(lstm_forecast_df.index, lstm_forecast_df['mean'], label='LSTM point forecast', color='orange')\n",
    "plt.title(f'LSTM point forecast — {forecast_months} months ahead')\n",
    "plt.legend()\n",
    "plt.show()\n"
   ]
  },
  {
   "cell_type": "markdown",
   "id": "9066f900",
   "metadata": {},
   "source": [
    "# Bootstrap residual simulation for LSTM intervals"
   ]
  },
  {
   "cell_type": "code",
   "execution_count": null,
   "id": "742027fb",
   "metadata": {},
   "outputs": [],
   "source": [
    "\n",
    "sim_matrix = np.zeros((n_bootstrap_sims, horizon_days))\n",
    "\n",
    "for s in range(n_bootstrap_sims):\n",
    "    # sample residuals with replacement for each future step\n",
    "    sampled_resids = np.random.choice(residuals, size=horizon_days, replace=True)\n",
    "    # add sampled residuals (in price space) to point forecast\n",
    "    sim_path = lstm_fc_values + sampled_resids  # simple additive residual bootstrap\n",
    "    sim_matrix[s, :] = sim_path\n",
    "\n",
    "# Compute percentiles\n",
    "lower_95 = np.percentile(sim_matrix, 2.5, axis=0)\n",
    "upper_95 = np.percentile(sim_matrix, 97.5, axis=0)\n",
    "\n",
    "lstm_forecast_df['lower_95'] = lower_95\n",
    "lstm_forecast_df['upper_95'] = upper_95\n",
    "\n",
    "# Plot LSTM with empirical 95% intervals\n",
    "plt.figure(figsize=(12,5))\n",
    "plt.plot(tsla.index[-500:], tsla.values[-500:], label='Historical (last 500 days)')\n",
    "plt.plot(lstm_forecast_df.index, lstm_forecast_df['mean'], label='LSTM mean forecast', color='orange')\n",
    "plt.fill_between(lstm_forecast_df.index, lstm_forecast_df['lower_95'], lstm_forecast_df['upper_95'],\n",
    "                 color='peachpuff', alpha=0.5, label='LSTM empirical 95% interval')\n",
    "plt.title(f'LSTM Forecast w/ Bootstrap Intervals — {forecast_months} months')\n",
    "plt.legend()\n",
    "plt.show()\n"
   ]
  },
  {
   "cell_type": "markdown",
   "id": "30915912",
   "metadata": {},
   "source": [
    "# Combine into one DataFrame for comparison, and save"
   ]
  },
  {
   "cell_type": "code",
   "execution_count": null,
   "id": "b8fa05ac",
   "metadata": {},
   "outputs": [],
   "source": [
    "combined = pd.DataFrame(index=future_index)\n",
    "combined['ARIMA_mean'] = arima_forecast_df['mean']\n",
    "combined['ARIMA_lower95'] = arima_forecast_df['lower_95']\n",
    "combined['ARIMA_upper95'] = arima_forecast_df['upper_95']\n",
    "\n",
    "combined['LSTM_mean'] = lstm_forecast_df['mean']\n",
    "combined['LSTM_lower95'] = lstm_forecast_df['lower_95']\n",
    "combined['LSTM_upper95'] = lstm_forecast_df['upper_95']\n",
    "\n",
    "combined.head()\n",
    "# Save to CSV if you want:\n",
    "combined.to_csv(\"tsla_forecasts_task3.csv\", index=True)\n",
    "print(\"Saved combined forecasts to tsla_forecasts_task3.csv\")\n"
   ]
  }
 ],
 "metadata": {
  "language_info": {
   "name": "python"
  }
 },
 "nbformat": 4,
 "nbformat_minor": 5
}
